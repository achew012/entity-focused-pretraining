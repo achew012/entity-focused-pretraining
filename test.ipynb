{
 "cells": [
  {
   "cell_type": "code",
   "execution_count": 1,
   "source": [
    "from clearml import Task, StorageManager, Dataset\n",
    "import argparse, json, os, random, math\n",
    "\n",
    "class bucket_ops:\n",
    "    StorageManager.set_cache_file_limit(5, cache_context=None)\n",
    "\n",
    "    def list(remote_path:str):\n",
    "        return StorageManager.list(remote_path, return_full_path=False)\n",
    "\n",
    "    def upload_folder(local_path:str, remote_path:str):\n",
    "        StorageManager.upload_folder(local_path, remote_path, match_wildcard=None)\n",
    "        print(\"Uploaded {}\".format(local_path))\n",
    "\n",
    "    def download_folder(local_path:str, remote_path:str):\n",
    "        StorageManager.download_folder(remote_path, local_path, match_wildcard=None, overwrite=True)\n",
    "        print(\"Downloaded {}\".format(remote_path))\n",
    "    \n",
    "    def get_file(remote_path:str):        \n",
    "        object = StorageManager.get_local_copy(remote_path)\n",
    "        return object\n",
    "\n",
    "    def upload_file(local_path:str, remote_path:str):\n",
    "        StorageManager.upload_file(local_path, remote_path, wait_for_upload=True, retries=3)\n"
   ],
   "outputs": [],
   "metadata": {}
  },
  {
   "cell_type": "code",
   "execution_count": 2,
   "source": [
    "import os\n",
    "import torch\n",
    "from torch import nn\n",
    "import torch.nn.functional as F\n",
    "import pytorch_lightning as pl\n",
    "from transformers import LongformerForMaskedLM, LongformerTokenizer\n",
    "\n",
    "class mlm(torch.nn.Module):\n",
    "    def __init__(self, args):\n",
    "        super().__init__()\n",
    "        self.args = args\n",
    "        #self.config =  \n",
    "        self.softmax = nn.Softmax(dim=-1)\n",
    "        self.tokenizer = LongformerTokenizer.from_pretrained('allenai/longformer-base-4096')\n",
    "        #self.longformer = LongformerForMaskedLM.from_pretrained('allenai/longformer-base-4096', gradient_checkpointing=True, output_hidden_states=False)\n",
    "\n",
    "        pretrained_lm_path = bucket_ops.get_file(\n",
    "            remote_path=\"s3://experiment-logging/storage/ner-pretraining/NER-LM.c1a2da99836542849c6e8358498fed81/models/best_entity_lm.ckpt\"\n",
    "            )\n",
    "        self.longformer = LongformerForMaskedLM.from_pretrained(pretrained_lm_path, gradient_checkpointing=True)\n",
    "        \n",
    "\n",
    "    def forward(self, **batch):\n",
    "        # in lightning, forward defines the prediction/inference actions\n",
    "        #input_ids, attention_mask, labels = batch\n",
    "        outputs = self.longformer(**batch, return_dict=False)\n",
    "        return outputs\n",
    "\n",
    "args={\n",
    "    \"num_epochs\":50,\n",
    "    \"train_batch_size\":2,\n",
    "    \"eval_batch_size\":4\n",
    "}\n",
    "args = argparse.Namespace(**args)\n",
    "model = mlm(args)\n"
   ],
   "outputs": [
    {
     "output_type": "stream",
     "name": "stdout",
     "text": [
      "ClearML Task: created new task id=c5064beda70e493a8d26efd151f6f785\n",
      "ClearML results page: http://experiment.sytes.net:8080/projects/df20ee0d38af4ac787b6c77555163a03/experiments/c5064beda70e493a8d26efd151f6f785/output/log\n",
      "ClearML new version available: upgrade to v1.1.2 is recommended!\n",
      "2021-10-10 02:19:25,151 - clearml - WARNING - Switching to remote execution, output log page http://experiment.sytes.net:8080/projects/df20ee0d38af4ac787b6c77555163a03/experiments/c5064beda70e493a8d26efd151f6f785/output/log\n"
     ]
    }
   ],
   "metadata": {}
  },
  {
   "cell_type": "code",
   "execution_count": null,
   "source": [
    "inputs = model.tokenizer(\"The capital of France is <mask>.\", return_tensors=\"pt\")"
   ],
   "outputs": [
    {
     "output_type": "error",
     "ename": "Error",
     "evalue": "Kernel is dead",
     "traceback": [
      "Error: Kernel is dead",
      "at g._sendKernelShellControl (/home/aaron/.vscode/extensions/ms-toolsai.jupyter-2021.8.2041215044/out/client/extension.js:52:1006195)",
      "at g.sendShellMessage (/home/aaron/.vscode/extensions/ms-toolsai.jupyter-2021.8.2041215044/out/client/extension.js:52:1005964)",
      "at g.requestExecute (/home/aaron/.vscode/extensions/ms-toolsai.jupyter-2021.8.2041215044/out/client/extension.js:52:1008506)",
      "at d.requestExecute (/home/aaron/.vscode/extensions/ms-toolsai.jupyter-2021.8.2041215044/out/client/extension.js:37:325680)",
      "at w.requestExecute (/home/aaron/.vscode/extensions/ms-toolsai.jupyter-2021.8.2041215044/out/client/extension.js:32:18027)",
      "at w.executeCodeCell (/home/aaron/.vscode/extensions/ms-toolsai.jupyter-2021.8.2041215044/out/client/extension.js:52:301076)",
      "at w.execute (/home/aaron/.vscode/extensions/ms-toolsai.jupyter-2021.8.2041215044/out/client/extension.js:52:300703)",
      "at w.start (/home/aaron/.vscode/extensions/ms-toolsai.jupyter-2021.8.2041215044/out/client/extension.js:52:296367)",
      "at runMicrotasks (<anonymous>)",
      "at processTicksAndRejections (internal/process/task_queues.js:93:5)",
      "at async t.CellExecutionQueue.executeQueuedCells (/home/aaron/.vscode/extensions/ms-toolsai.jupyter-2021.8.2041215044/out/client/extension.js:52:311160)",
      "at async t.CellExecutionQueue.start (/home/aaron/.vscode/extensions/ms-toolsai.jupyter-2021.8.2041215044/out/client/extension.js:52:310700)"
     ]
    }
   ],
   "metadata": {}
  },
  {
   "cell_type": "code",
   "execution_count": null,
   "source": [
    "inputs[\"input_ids\"]"
   ],
   "outputs": [],
   "metadata": {}
  },
  {
   "cell_type": "code",
   "execution_count": null,
   "source": [
    "outputs = model(inputs)"
   ],
   "outputs": [],
   "metadata": {}
  }
 ],
 "metadata": {
  "orig_nbformat": 4,
  "language_info": {
   "name": "python",
   "version": "3.6.9",
   "mimetype": "text/x-python",
   "codemirror_mode": {
    "name": "ipython",
    "version": 3
   },
   "pygments_lexer": "ipython3",
   "nbconvert_exporter": "python",
   "file_extension": ".py"
  },
  "kernelspec": {
   "name": "python3",
   "display_name": "Python 3.6.9 64-bit ('dev_env': pyenv)"
  },
  "interpreter": {
   "hash": "c53ac39aac5ae1b6a84bdef92b72530b9e7fd486323fb58b7803d6d838d59823"
  }
 },
 "nbformat": 4,
 "nbformat_minor": 2
}